{
 "cells": [
  {
   "cell_type": "code",
   "execution_count": 11,
   "id": "d251082c",
   "metadata": {},
   "outputs": [
    {
     "name": "stdout",
     "output_type": "stream",
     "text": [
      "g\n"
     ]
    }
   ],
   "source": [
    "import random\n",
    "import numpy as np\n",
    "import matplotlib.pyplot as plt\n",
    "from tabulate import tabulate\n",
    "import math\n",
    "\n",
    "def simulate(N):\n",
    "    loops = 0\n",
    "    bowl = np.concatenate((np.arange(1,N+1), np.arange(1,N+1)))\n",
    "    \n",
    "    for i in range(N):\n",
    "        random_indices = np.random.choice(len(bowl), size=2, replace=False)\n",
    "        X = bowl[random_indices]\n",
    "        x1 = X[0]\n",
    "        x2 = X[1]\n",
    "        # Remove the randomly selected elements from the list\n",
    "        bowl = np.delete(bowl, random_indices)\n",
    "\n",
    "        if x1 == x2:\n",
    "            loops +=1\n",
    "        else:\n",
    "            # When 2 different ends are tied, other 2 ends of those strings must be set to same value as they are now same string\n",
    "            j = np.where(bowl == x2)\n",
    "            bowl[j] = x1\n",
    "    return(loops)\n",
    "\n",
    "def average(N, n):\n",
    "    loops = np.array([])\n",
    "    for i in range(n):\n",
    "        loops = np.append(loops, simulate(N))\n",
    "    return np.mean(loops)\n",
    "\n",
    "def theoretical(N):\n",
    "    x=0\n",
    "    for i in range(1,N):\n",
    "        x += 1/(2*i-1)\n",
    "    return x\n",
    "\n",
    "print('g')"
   ]
  },
  {
   "cell_type": "code",
   "execution_count": 2,
   "id": "e2753a4d",
   "metadata": {},
   "outputs": [
    {
     "name": "stdout",
     "output_type": "stream",
     "text": [
      "┌─────────────────────────┬────────────────────────┬──────────────────────────┬────────────┐\n",
      "│   N (# strings in bowl) │   Simulated # of Loops │   Theoretical # of Loops │      Error │\n",
      "├─────────────────────────┼────────────────────────┼──────────────────────────┼────────────┤\n",
      "│                     100 │             3.28000000 │               3.27931706 │ 0.00068294 │\n",
      "├─────────────────────────┼────────────────────────┼──────────────────────────┼────────────┤\n",
      "│                     200 │             3.64000000 │               3.62840795 │ 0.01159205 │\n",
      "├─────────────────────────┼────────────────────────┼──────────────────────────┼────────────┤\n",
      "│                     300 │             3.94000000 │               3.83197703 │ 0.10802297 │\n",
      "├─────────────────────────┼────────────────────────┼──────────────────────────┼────────────┤\n",
      "│                     400 │             4.03250000 │               3.97623585 │ 0.05626415 │\n",
      "├─────────────────────────┼────────────────────────┼──────────────────────────┼────────────┤\n",
      "│                     500 │             4.21400000 │               4.08805814 │ 0.12594186 │\n",
      "├─────────────────────────┼────────────────────────┼──────────────────────────┼────────────┤\n",
      "│                     600 │             4.21333333 │               4.17938587 │ 0.03394746 │\n",
      "├─────────────────────────┼────────────────────────┼──────────────────────────┼────────────┤\n",
      "│                     700 │             4.32142857 │               4.25658043 │ 0.06484814 │\n",
      "├─────────────────────────┼────────────────────────┼──────────────────────────┼────────────┤\n",
      "│                     800 │             4.34125000 │               4.32343552 │ 0.01781448 │\n",
      "├─────────────────────────┼────────────────────────┼──────────────────────────┼────────────┤\n",
      "│                     900 │             4.37888889 │               4.38239656 │ 0.00350767 │\n",
      "├─────────────────────────┼────────────────────────┼──────────────────────────┼────────────┤\n",
      "│                    1000 │             4.39600000 │               4.43513242 │ 0.03913242 │\n",
      "└─────────────────────────┴────────────────────────┴──────────────────────────┴────────────┘\n"
     ]
    }
   ],
   "source": [
    "table = []\n",
    "\n",
    "for i in range(100, 1001, 100):\n",
    "    L = average(i, i)\n",
    "    t = theoretical(i)\n",
    "    e = np.abs(L-t)\n",
    "    table.append([i, L, t, e])\n",
    "\n",
    "headers = ['N (# strings in bowl)', 'Simulated # of Loops', 'Theoretical # of Loops', 'Error']\n",
    "\n",
    "    \n",
    "print(tabulate(table, headers, tablefmt=\"simple_grid\", floatfmt=\".8f\"))\n"
   ]
  },
  {
   "cell_type": "code",
   "execution_count": 8,
   "id": "013d2dc1",
   "metadata": {},
   "outputs": [
    {
     "data": {
      "image/png": "[encoded data removed]",
      "text/plain": [
       "<Figure size 432x288 with 1 Axes>"
      ]
     },
     "metadata": {
      "needs_background": "light"
     },
     "output_type": "display_data"
    }
   ],
   "source": [
    "n = np.arange(100,100000,100)\n",
    "mu = [theoretical(i) for i in n]\n",
    "plt.plot(n,mu)\n",
    "plt.xlabel('N')\n",
    "plt.ylabel('mu_N')\n",
    "plt.show()"
   ]
  },
  {
   "cell_type": "code",
   "execution_count": 12,
   "id": "f3bf9ab3",
   "metadata": {},
   "outputs": [],
   "source": [
    "def simulate2(N):\n",
    "    loops = []\n",
    "    bowl = np.concatenate((np.arange(1,N+1), np.arange(1,N+1)))\n",
    "    for i in range(N):\n",
    "        random_indices = np.random.choice(len(bowl), size=2, replace=False)\n",
    "        X = bowl[random_indices]\n",
    "        x1 = X[0]\n",
    "        x2 = X[1]\n",
    "        # Remove the randomly selected elements from the list\n",
    "        bowl = np.delete(bowl, random_indices)\n",
    "        loops.append([x1,x2])\n",
    "\n",
    "    return(loops)\n",
    "\n",
    "def connect(N):\n",
    "    loops = simulate2(N)\n",
    "    x0 = loops[0,0]\n",
    "    \n",
    "from collections import defaultdict\n",
    "\n",
    "def find_connected_components(arr):\n",
    "    graph = defaultdict(list)\n",
    "    for pair in arr:\n",
    "        for num in pair:\n",
    "            graph[num].append(pair)\n",
    "\n",
    "    visited = set()\n",
    "    connected_components = []\n",
    "\n",
    "    for pair in arr:\n",
    "        if tuple(pair) not in visited:\n",
    "            component = set()\n",
    "            queue = [pair]\n",
    "            while queue:\n",
    "                current_pair = queue.pop(0)\n",
    "                if tuple(current_pair) not in visited:\n",
    "                    visited.add(tuple(current_pair))\n",
    "                    component.update(current_pair)\n",
    "                    for num in current_pair:\n",
    "                        for neighbor in graph[num]:\n",
    "                            if neighbor not in queue and tuple(neighbor) not in visited:\n",
    "                                queue.append(neighbor)\n",
    "            if component:\n",
    "                connected_components.append(list(component))\n",
    "\n",
    "    return connected_components\n"
   ]
  },
  {
   "cell_type": "code",
   "execution_count": 13,
   "id": "641e9f1a",
   "metadata": {},
   "outputs": [
    {
     "data": {
      "image/png": "[encoded data removed]",
      "text/plain": [
       "<Figure size 432x288 with 1 Axes>"
      ]
     },
     "metadata": {
      "needs_background": "light"
     },
     "output_type": "display_data"
    }
   ],
   "source": [
    "def longest_loop(N):\n",
    "    pairs = simulate2(N)\n",
    "    loops = find_connected_components(pairs)\n",
    "    lengths = []\n",
    "    for i in range(len(loops)):\n",
    "        lengths.append(len(loops[i]))\n",
    "    lloop = np.max(lengths)                  \n",
    "    return lloop\n",
    "\n",
    "data = []        \n",
    "for i in range(100000):\n",
    "    data.append(longest_loop(100))\n",
    "    \n",
    "plt.hist(data, bins=100, range = (0,100), edgecolor='black') \n",
    "plt.show()"
   ]
  },
  {
   "cell_type": "code",
   "execution_count": 14,
   "id": "1c19299e",
   "metadata": {},
   "outputs": [
    {
     "name": "stdout",
     "output_type": "stream",
     "text": [
      "┌─────────────────────────┬─────────────────────────────────────────┐\n",
      "│   N (# strings in bowl) │                         # unique graphs │\n",
      "├─────────────────────────┼─────────────────────────────────────────┤\n",
      "│                       1 │                                       1 │\n",
      "├─────────────────────────┼─────────────────────────────────────────┤\n",
      "│                       2 │                                       3 │\n",
      "├─────────────────────────┼─────────────────────────────────────────┤\n",
      "│                       3 │                                      14 │\n",
      "├─────────────────────────┼─────────────────────────────────────────┤\n",
      "│                       4 │                                      88 │\n",
      "├─────────────────────────┼─────────────────────────────────────────┤\n",
      "│                       5 │                                     694 │\n",
      "├─────────────────────────┼─────────────────────────────────────────┤\n",
      "│                       6 │                                    6578 │\n",
      "├─────────────────────────┼─────────────────────────────────────────┤\n",
      "│                       7 │                                   72792 │\n",
      "├─────────────────────────┼─────────────────────────────────────────┤\n",
      "│                       8 │                                  920904 │\n",
      "├─────────────────────────┼─────────────────────────────────────────┤\n",
      "│                       9 │                                13109088 │\n",
      "├─────────────────────────┼─────────────────────────────────────────┤\n",
      "│                      10 │                               207360912 │\n",
      "├─────────────────────────┼─────────────────────────────────────────┤\n",
      "│                      11 │                              3608233056 │\n",
      "├─────────────────────────┼─────────────────────────────────────────┤\n",
      "│                      12 │                             68495486640 │\n",
      "├─────────────────────────┼─────────────────────────────────────────┤\n",
      "│                      13 │                           1408631978064 │\n",
      "├─────────────────────────┼─────────────────────────────────────────┤\n",
      "│                      14 │                          31197601660080 │\n",
      "├─────────────────────────┼─────────────────────────────────────────┤\n",
      "│                      15 │                         740303842925184 │\n",
      "├─────────────────────────┼─────────────────────────────────────────┤\n",
      "│                      16 │                       18738231641600256 │\n",
      "├─────────────────────────┼─────────────────────────────────────────┤\n",
      "│                      17 │                      503937595069600896 │\n",
      "├─────────────────────────┼─────────────────────────────────────────┤\n",
      "│                      18 │                    14349899305396086912 │\n",
      "├─────────────────────────┼─────────────────────────────────────────┤\n",
      "│                      19 │                   431322634732516137216 │\n",
      "├─────────────────────────┼─────────────────────────────────────────┤\n",
      "│                      20 │                 13646841876634025159424 │\n",
      "├─────────────────────────┼─────────────────────────────────────────┤\n",
      "│                      21 │                453368600595366961996800 │\n",
      "├─────────────────────────┼─────────────────────────────────────────┤\n",
      "│                      22 │              15778806288679806705745920 │\n",
      "├─────────────────────────┼─────────────────────────────────────────┤\n",
      "│                      23 │             574119145641826499506790400 │\n",
      "├─────────────────────────┼─────────────────────────────────────────┤\n",
      "│                      24 │           21797833715685588118473262080 │\n",
      "├─────────────────────────┼─────────────────────────────────────────┤\n",
      "│                      25 │          862091605103427301822025518080 │\n",
      "├─────────────────────────┼─────────────────────────────────────────┤\n",
      "│                      26 │        35459029188455410783782104417280 │\n",
      "├─────────────────────────┼─────────────────────────────────────────┤\n",
      "│                      27 │      1514574656399442667934038297098240 │\n",
      "├─────────────────────────┼─────────────────────────────────────────┤\n",
      "│                      28 │     67088610746099778326627877086085120 │\n",
      "├─────────────────────────┼─────────────────────────────────────────┤\n",
      "│                      29 │   3077845953899469613055584918378813440 │\n",
      "├─────────────────────────┼─────────────────────────────────────────┤\n",
      "│                      30 │ 146072417863011894931367178765908305920 │\n",
      "└─────────────────────────┴─────────────────────────────────────────┘\n"
     ]
    },
    {
     "data": {
      "image/png": "[encoded data removed]",
      "text/plain": [
       "<Figure size 432x288 with 1 Axes>"
      ]
     },
     "metadata": {
      "needs_background": "light"
     },
     "output_type": "display_data"
    }
   ],
   "source": [
    "# Calculates the first n x_N\n",
    "def total(n):\n",
    "    x = [1]\n",
    "    table = []\n",
    "    for i in range(1, n+1):\n",
    "        y = 0\n",
    "        for k in range(1, i+1):\n",
    "            y += math.comb(i,k)*math.factorial(k-1)*x[i-k]\n",
    "        x.append(y)\n",
    "        table.append([i, y])\n",
    "    return table, x\n",
    "\n",
    "table, x = total(30)\n",
    "headers = ['N (# strings in bowl)', '# unique graphs']\n",
    "\n",
    "    \n",
    "print(tabulate(table, headers, tablefmt=\"simple_grid\"))\n",
    "\n",
    "plt.loglog(np.arange(1,32), x)\n",
    "plt.xlabel('N')\n",
    "plt.ylabel('number of graphs')\n",
    "plt.show()\n"
   ]
  },
  {
   "cell_type": "code",
   "execution_count": 15,
   "id": "ed9be87c",
   "metadata": {},
   "outputs": [
    {
     "data": {
      "image/png": "[encoded data removed]",
      "text/plain": [
       "<Figure size 432x288 with 1 Axes>"
      ]
     },
     "metadata": {
      "needs_background": "light"
     },
     "output_type": "display_data"
    }
   ],
   "source": [
    "def oneloop(n):\n",
    "    x = 1\n",
    "    for i in range(1,n):\n",
    "        x *= (2*i)/(2*i+1)\n",
    "    return x\n",
    "\n",
    "n = [10**i for i in range (8)]\n",
    "p = []\n",
    "for _ in n:\n",
    "    p.append(oneloop(_))\n",
    "\n",
    "plt.loglog(n,p)\n",
    "plt.xlabel('N')\n",
    "plt.ylabel('probability of single loop')\n",
    "plt.show()\n",
    "    \n"
   ]
  },
  {
   "cell_type": "code",
   "execution_count": 17,
   "id": "5842696d",
   "metadata": {},
   "outputs": [
    {
     "name": "stdout",
     "output_type": "stream",
     "text": [
      "36.666666666666664\n"
     ]
    }
   ],
   "source": [
    "def P(N, i):\n",
    "    numerator = math.prod(range(2*N - 2*i + 2, 2*N + 1, 2))\n",
    "    denominator = math.prod(range(2*N - 1, 2*N - 2*i, -2))\n",
    "    return numerator / denominator\n",
    "\n",
    "def T(N):\n",
    "    total = 0\n",
    "    for i in range(1, N + 1):\n",
    "        total += i * P(N, i)\n",
    "    return total\n",
    "\n",
    "N = 5\n",
    "result = T(N)\n",
    "print(result)"
   ]
  },
  {
   "cell_type": "code",
   "execution_count": null,
   "id": "c07138e4",
   "metadata": {},
   "outputs": [],
   "source": []
  }
 ],
 "metadata": {
  "kernelspec": {
   "display_name": "Python 3 (ipykernel)",
   "language": "python",
   "name": "python3"
  },
  "language_info": {
   "codemirror_mode": {
    "name": "ipython",
    "version": 3
   },
   "file_extension": ".py",
   "mimetype": "text/x-python",
   "name": "python",
   "nbconvert_exporter": "python",
   "pygments_lexer": "ipython3",
   "version": "3.9.7"
  }
 },
 "nbformat": 4,
 "nbformat_minor": 5
}
